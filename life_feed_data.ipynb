{
 "cells": [
  {
   "cell_type": "markdown",
   "source": [
    "# Import\n",
    "libraries + api keys"
   ],
   "metadata": {
    "collapsed": false,
    "pycharm": {
     "name": "#%% md\n"
    }
   }
  },
  {
   "cell_type": "code",
   "execution_count": 288,
   "outputs": [],
   "source": [
    "import geopandas as gpd\n",
    "from geopy.distance import geodesic as gd\n",
    "import requests\n",
    "import folium\n",
    "import openrouteservice as ors\n",
    "import API_KEYS\n",
    "import time\n"
   ],
   "metadata": {
    "collapsed": false,
    "pycharm": {
     "name": "#%%\n"
    }
   }
  },
  {
   "cell_type": "markdown",
   "source": [
    "# Download data from bike station life feed"
   ],
   "metadata": {
    "collapsed": false,
    "pycharm": {
     "name": "#%% md\n"
    }
   }
  },
  {
   "cell_type": "code",
   "execution_count": 289,
   "outputs": [],
   "source": [
    "URL='http://bikeshare.metro.net/stations/json/'\n",
    "USER_AGENT = \"Mozilla/5.0 (Macintosh; Intel Mac OS X 10.14; rv:65.0) Gecko/20100101 Firefox/65.0\"\n",
    "headers = {\"user-agent\": USER_AGENT} # adding the user agent\n",
    "resp = requests.get(URL, headers=headers)\n",
    "f = open(\"map_data.json\", \"w\")\n",
    "f.write(resp.text)\n",
    "f.close()"
   ],
   "metadata": {
    "collapsed": false,
    "pycharm": {
     "name": "#%%\n"
    }
   }
  },
  {
   "cell_type": "markdown",
   "source": [
    "# Parsing data from geojson to dict"
   ],
   "metadata": {
    "collapsed": false
   }
  },
  {
   "cell_type": "code",
   "execution_count": 290,
   "outputs": [
    {
     "data": {
      "text/plain": "{'700 Flower St': {'coordinates': (34.0485, -118.25854),\n  'bikes': 14,\n  'docks': 17,\n  'distance': -1},\n '729 S Olive Street': {'coordinates': (34.04554, -118.25667),\n  'bikes': 5,\n  'docks': 26,\n  'distance': -1},\n '557 S 5th Street': {'coordinates': (34.05048, -118.25459),\n  'bikes': 6,\n  'docks': 17,\n  'distance': -1},\n '865 S Figueroa Street': {'coordinates': (34.04661, -118.26273),\n  'bikes': 4,\n  'docks': 10,\n  'distance': -1},\n '401 East 11th Street': {'coordinates': (34.03705, -118.25487),\n  'bikes': 6,\n  'docks': 8,\n  'distance': -1},\n '1259-1299 S Figueroa Street': {'coordinates': (34.04113, -118.26798),\n  'bikes': 6,\n  'docks': 13,\n  'distance': -1},\n '834 N Alameda St': {'coordinates': (34.05661, -118.23721),\n  'bikes': 10,\n  'docks': 21,\n  'distance': -1},\n '201 N Los Angeles Street': {'coordinates': (34.0529, -118.24156),\n  'bikes': 3,\n  'docks': 27,\n  'distance': -1},\n '919 S Grand Ave.': {'coordinates': (34.04373, -118.26014),\n  'bikes': 5,\n  'docks': 14,\n  'distance': -1},\n '129 W 12th Street': {'coordinates': (34.03861, -118.26086),\n  'bikes': 0,\n  'docks': 19,\n  'distance': -1},\n '1950 S Hill Street': {'coordinates': (34.03105, -118.26709),\n  'bikes': 6,\n  'docks': 15,\n  'distance': -1},\n '999 E Third Street': {'coordinates': (34.04607, -118.23309),\n  'bikes': 5,\n  'docks': 21,\n  'distance': -1},\n '111 N Hope St': {'coordinates': (34.05772, -118.24897),\n  'bikes': 4,\n  'docks': 13,\n  'distance': -1},\n '1014 S Grand Ave': {'coordinates': (34.03286, -118.26808),\n  'bikes': 2,\n  'docks': 13,\n  'distance': -1},\n '668 N Figueroa Street': {'coordinates': (34.06318, -118.24588),\n  'bikes': 5,\n  'docks': 10,\n  'distance': -1},\n '300 S Spring Street': {'coordinates': (34.04998, -118.24716),\n  'bikes': 4,\n  'docks': 11,\n  'distance': -1},\n '310 N Grand Ave': {'coordinates': (34.05832, -118.24609),\n  'bikes': 9,\n  'docks': 7,\n  'distance': -1},\n '334 S Main Street': {'coordinates': (34.04885, -118.24642),\n  'bikes': 7,\n  'docks': 11,\n  'distance': -1},\n '120 S Main Street': {'coordinates': (34.05194, -118.24353),\n  'bikes': 6,\n  'docks': 23,\n  'distance': -1},\n '7th & Spring St.': {'coordinates': (34.0447, -118.25244),\n  'bikes': 7,\n  'docks': 18,\n  'distance': -1},\n '557 S Hope Street': {'coordinates': (34.04989, -118.25588),\n  'bikes': 4,\n  'docks': 27,\n  'distance': -1},\n '110 E 9th Street': {'coordinates': (34.04099, -118.2558),\n  'bikes': 3,\n  'docks': 12,\n  'distance': -1},\n '1113 S Hope St': {'coordinates': (34.04206, -118.26338),\n  'bikes': 5,\n  'docks': 24,\n  'distance': -1},\n '735 S Figueroa Street': {'coordinates': (34.0484, -118.26095),\n  'bikes': 14,\n  'docks': 9,\n  'distance': -1},\n '1301 Willow Street': {'coordinates': (34.03919, -118.23253),\n  'bikes': 9,\n  'docks': 10,\n  'distance': -1},\n '699 S Imperial St': {'coordinates': (34.0348, -118.23128),\n  'bikes': 5,\n  'docks': 14,\n  'distance': -1},\n '1234 Wilshire Blvd': {'coordinates': (34.05357, -118.26636),\n  'bikes': 6,\n  'docks': 2,\n  'distance': -1},\n '369 E First Street': {'coordinates': (34.0493, -118.23881),\n  'bikes': 7,\n  'docks': 21,\n  'distance': -1},\n '1850 San Pedro St': {'coordinates': (34.02851, -118.25667),\n  'bikes': 9,\n  'docks': 5,\n  'distance': -1},\n '201 South Hill Street': {'coordinates': (34.05287, -118.24749),\n  'bikes': 3,\n  'docks': 14,\n  'distance': -1},\n '515 W Pico Street': {'coordinates': (34.03998, -118.2664),\n  'bikes': 11,\n  'docks': 25,\n  'distance': -1},\n '1210 East 5th Street': {'coordinates': (34.04169, -118.23535),\n  'bikes': 1,\n  'docks': 15,\n  'distance': -1},\n '945 W 2nd Street': {'coordinates': (34.05697, -118.25359),\n  'bikes': 8,\n  'docks': 10,\n  'distance': -1},\n '1107 W 7th Street': {'coordinates': (34.0511, -118.26456),\n  'bikes': 8,\n  'docks': 26,\n  'distance': -1},\n '1245 Factory Place': {'coordinates': (34.03922, -118.23649),\n  'bikes': 5,\n  'docks': 14,\n  'distance': -1},\n '1375 S Grand Ave': {'coordinates': (34.03746, -118.26538),\n  'bikes': 2,\n  'docks': 13,\n  'distance': -1},\n '512 W 18th Street': {'coordinates': (34.03568, -118.27081),\n  'bikes': 7,\n  'docks': 8,\n  'distance': -1},\n '1855 Industrial Street': {'coordinates': (34.0358, -118.23317),\n  'bikes': 3,\n  'docks': 12,\n  'distance': -1},\n '350 E Third Street': {'coordinates': (34.04775, -118.24317),\n  'bikes': 5,\n  'docks': 9,\n  'distance': -1},\n '532 W Olive Street': {'coordinates': (34.04804, -118.25374),\n  'bikes': 9,\n  'docks': 13,\n  'distance': -1},\n '786 S Grand Ave': {'coordinates': (34.04613, -118.25759),\n  'bikes': 4,\n  'docks': 14,\n  'distance': -1},\n '725 New High Street': {'coordinates': (34.06056, -118.23833),\n  'bikes': 9,\n  'docks': 6,\n  'distance': -1},\n '870 N Spring Street': {'coordinates': (34.06339, -118.23616),\n  'bikes': 9,\n  'docks': 6,\n  'distance': -1},\n '640 S Spring Street': {'coordinates': (34.04518, -118.25024),\n  'bikes': 19,\n  'docks': 0,\n  'distance': -1},\n '250 S Grand Ave': {'coordinates': (34.0532, -118.25095),\n  'bikes': 1,\n  'docks': 13,\n  'distance': -1},\n '303 S Broadway Street': {'coordinates': (34.05088, -118.24825),\n  'bikes': 11,\n  'docks': 12,\n  'distance': -1},\n '960 S Hope Street': {'coordinates': (34.04417, -118.26117),\n  'bikes': 10,\n  'docks': 12,\n  'distance': -1},\n '902 South Broadway': {'coordinates': (34.04211, -118.25619),\n  'bikes': 6,\n  'docks': 10,\n  'distance': -1},\n '201 East 9th Street': {'coordinates': (34.0406, -118.25384),\n  'bikes': 5,\n  'docks': 10,\n  'distance': -1},\n '517 East 8th Street': {'coordinates': (34.03987, -118.25004),\n  'bikes': 2,\n  'docks': 13,\n  'distance': -1},\n '881 N Hill Street': {'coordinates': (34.06428, -118.23894),\n  'bikes': 5,\n  'docks': 10,\n  'distance': -1},\n '720 E Temple St': {'coordinates': (34.05014, -118.23319),\n  'bikes': 3,\n  'docks': 11,\n  'distance': -1},\n '800 E 12th Street': {'coordinates': (34.03189, -118.25018),\n  'bikes': 5,\n  'docks': 10,\n  'distance': -1},\n '599 Traction Ave': {'coordinates': (34.04652, -118.23741),\n  'bikes': 9,\n  'docks': 18,\n  'distance': -1},\n '1222 Abbot Kinney Blvd': {'coordinates': (33.99116, -118.46829),\n  'bikes': 7,\n  'docks': 17,\n  'distance': -1},\n '2901 W Washington Blvd': {'coordinates': (33.98842, -118.45163),\n  'bikes': 4,\n  'docks': 12,\n  'distance': -1},\n '923 Venice Blvd': {'coordinates': (33.99377, -118.45367),\n  'bikes': 7,\n  'docks': 9,\n  'distance': -1},\n '1000 California Ave': {'coordinates': (33.99834, -118.46101),\n  'bikes': 6,\n  'docks': 24,\n  'distance': -1},\n '715 Rose Ave': {'coordinates': (34.00088, -118.46891),\n  'bikes': 5,\n  'docks': 17,\n  'distance': -1},\n '529 Rose Ave': {'coordinates': (33.99868, -118.47298),\n  'bikes': 6,\n  'docks': 14,\n  'distance': -1},\n '200 Rose Ave': {'coordinates': (33.99624, -118.47745),\n  'bikes': 19,\n  'docks': 4,\n  'distance': -1},\n '2100 Ocean Front Walk': {'coordinates': (33.98434, -118.47155),\n  'bikes': 13,\n  'docks': 2,\n  'distance': -1},\n '2100 Pacific Ave': {'coordinates': (33.98493, -118.46996),\n  'bikes': 10,\n  'docks': 4,\n  'distance': -1},\n '140 Windward Ave': {'coordinates': (33.98813, -118.47174),\n  'bikes': 8,\n  'docks': 13,\n  'distance': -1},\n '1150 7th Ave': {'coordinates': (33.99537, -118.4648),\n  'bikes': 6,\n  'docks': 9,\n  'distance': -1},\n 'Ocean Front Walk at Navy St': {'coordinates': (33.99556, -118.48155),\n  'bikes': 11,\n  'docks': 15,\n  'distance': -1},\n '1621 4th St': {'coordinates': (34.01431, -118.49134),\n  'bikes': 10,\n  'docks': 8,\n  'distance': -1},\n '1610 Colorado Ave': {'coordinates': (34.02339, -118.47964),\n  'bikes': 4,\n  'docks': 15,\n  'distance': -1},\n '1041 S Broadway': {'coordinates': (34.04031, -118.25827),\n  'bikes': 8,\n  'docks': 11,\n  'distance': -1},\n '1610 Park Ave': {'coordinates': (34.07483, -118.25873),\n  'bikes': 5,\n  'docks': 10,\n  'distance': -1},\n '2117 S Grand Ave': {'coordinates': (34.0298, -118.27031),\n  'bikes': 2,\n  'docks': 13,\n  'distance': -1},\n '3451 University Ave': {'coordinates': (34.02404, -118.28341),\n  'bikes': 5,\n  'docks': 10,\n  'distance': -1},\n '699 W 32nd Street': {'coordinates': (34.02371, -118.27917),\n  'bikes': 6,\n  'docks': 8,\n  'distance': -1},\n '1369 W 25th Street': {'coordinates': (34.03364, -118.29131),\n  'bikes': 4,\n  'docks': 4,\n  'distance': -1},\n '1276 W 29th St': {'coordinates': (34.02835, -118.28867),\n  'bikes': 1,\n  'docks': 17,\n  'distance': -1},\n '3499 S Figueroa St': {'coordinates': (34.0203, -118.28118),\n  'bikes': 7,\n  'docks': 8,\n  'distance': -1},\n '804 W Adams Blvd': {'coordinates': (34.03017, -118.28095),\n  'bikes': 5,\n  'docks': 10,\n  'distance': -1},\n '2817 Hoover St': {'coordinates': (34.02868, -118.28411),\n  'bikes': 2,\n  'docks': 13,\n  'distance': -1},\n '6020 Seabluff Dr': {'coordinates': (33.97366, -118.42286),\n  'bikes': 1,\n  'docks': 8,\n  'distance': -1},\n '613 W 28th St': {'coordinates': (34.02629, -118.27769),\n  'bikes': 4,\n  'docks': 11,\n  'distance': -1},\n '737 W 28th St': {'coordinates': (34.02762, -118.28068),\n  'bikes': 2,\n  'docks': 8,\n  'distance': -1},\n '3175 South Hoover Street': {'coordinates': (34.02586, -118.2841),\n  'bikes': 9,\n  'docks': 6,\n  'distance': -1},\n 'Southwest Stadium Entrance': {'coordinates': (34.01252, -118.2859),\n  'bikes': 9,\n  'docks': 6,\n  'distance': -1},\n '300 S Westlake Ave': {'coordinates': (34.06228, -118.27152),\n  'bikes': 3,\n  'docks': 7,\n  'distance': -1},\n '1552 W Olympic Blvd': {'coordinates': (34.04887, -118.2743),\n  'bikes': 1,\n  'docks': 13,\n  'distance': -1},\n '4698-4680 Maubert Ave': {'coordinates': (34.09905, -118.2915),\n  'bikes': 3,\n  'docks': 7,\n  'distance': -1},\n '1150 N Vermont Ave': {'coordinates': (34.09249, -118.29144),\n  'bikes': 3,\n  'docks': 7,\n  'distance': -1},\n '4459 Sunset Blvd': {'coordinates': (34.09801, -118.28707),\n  'bikes': 2,\n  'docks': 8,\n  'distance': -1},\n '629 Shatto Pl': {'coordinates': (34.06258, -118.29009),\n  'bikes': 4,\n  'docks': 7,\n  'distance': -1},\n '3038 W 8th St': {'coordinates': (34.05765, -118.29218),\n  'bikes': 4,\n  'docks': 11,\n  'distance': -1},\n '3192 W 7th St': {'coordinates': (34.05969, -118.29466),\n  'bikes': 8,\n  'docks': 7,\n  'distance': -1},\n '662 S Westlake Ave': {'coordinates': (34.05681, -118.275),\n  'bikes': 5,\n  'docks': 10,\n  'distance': -1},\n '2378 W 7th St': {'coordinates': (34.05771, -118.27976),\n  'bikes': 7,\n  'docks': 8,\n  'distance': -1},\n '694 South Union Avenue': {'coordinates': (34.05403, -118.27092),\n  'bikes': 3,\n  'docks': 10,\n  'distance': -1},\n '777 Alameda St': {'coordinates': (34.03352, -118.24184),\n  'bikes': 3,\n  'docks': 16,\n  'distance': -1},\n 'S Kenmore Ave & W 3rd St': {'coordinates': (34.06927, -118.29659),\n  'bikes': 6,\n  'docks': 6,\n  'distance': -1},\n 'Vermont & Beverly ': {'coordinates': (34.07561, -118.29186),\n  'bikes': 6,\n  'docks': 5,\n  'distance': -1},\n '919 Albany St': {'coordinates': (34.04813, -118.27103),\n  'bikes': 2,\n  'docks': 13,\n  'distance': -1},\n 'Berendo & Olympic road': {'coordinates': (34.0519, -118.29368),\n  'bikes': 4,\n  'docks': 14,\n  'distance': -1},\n '1689 N Normandie Ave': {'coordinates': (34.10189, -118.30061),\n  'bikes': 7,\n  'docks': 6,\n  'distance': -1},\n '609 S Kenmore Ave': {'coordinates': (34.06335, -118.2968),\n  'bikes': 7,\n  'docks': 9,\n  'distance': -1},\n '1900 N Vermont': {'coordinates': (34.10578, -118.29194),\n  'bikes': 1,\n  'docks': 8,\n  'distance': -1},\n '4500 Franklin Ave': {'coordinates': (34.10536, -118.28727),\n  'bikes': 2,\n  'docks': 11,\n  'distance': -1},\n '1254 N Hoover St': {'coordinates': (34.09493, -118.28456),\n  'bikes': 2,\n  'docks': 12,\n  'distance': -1},\n '4477 Santa Monica Blvd': {'coordinates': (34.09097, -118.28625),\n  'bikes': 4,\n  'docks': 10,\n  'distance': -1},\n '3420 Wilshire Blvd': {'coordinates': (34.06166, -118.29824),\n  'bikes': 6,\n  'docks': 12,\n  'distance': -1},\n 'University Ave': {'coordinates': (34.02662, -118.28181),\n  'bikes': 4,\n  'docks': 5,\n  'distance': -1},\n '1498 N Normandie': {'coordinates': (34.098, -118.30047),\n  'bikes': 5,\n  'docks': 7,\n  'distance': -1},\n '3330 S Figueroa St': {'coordinates': (34.02209, -118.27979),\n  'bikes': 2,\n  'docks': 6,\n  'distance': -1},\n '3670 Wilshire Blvd': {'coordinates': (34.06162, -118.30557),\n  'bikes': 7,\n  'docks': 2,\n  'distance': -1},\n '1389 S Sunset Blvd': {'coordinates': (34.07364, -118.25157),\n  'bikes': 4,\n  'docks': 11,\n  'distance': -1},\n '2059 James M. Wood Blvd': {'coordinates': (34.05323, -118.27842),\n  'bikes': 7,\n  'docks': 6,\n  'distance': -1},\n '623 S Rampart Blvd': {'coordinates': (34.0616, -118.28199),\n  'bikes': 10,\n  'docks': 5,\n  'distance': -1},\n '509 W 23rd St': {'coordinates': (34.03027, -118.27319),\n  'bikes': 5,\n  'docks': 17,\n  'distance': -1},\n '1153 Valencia St': {'coordinates': (34.04557, -118.27419),\n  'bikes': 8,\n  'docks': 5,\n  'distance': -1},\n '3000 W 6th St': {'coordinates': (34.06349, -118.28716),\n  'bikes': 7,\n  'docks': 8,\n  'distance': -1},\n '4647 Melbourne Ave': {'coordinates': (34.10363, -118.29131),\n  'bikes': 6,\n  'docks': 4,\n  'distance': -1},\n '1717 Hillhurst Ave': {'coordinates': (34.10233, -118.28746),\n  'bikes': 4,\n  'docks': 6,\n  'distance': -1},\n '701 Lucile Ave': {'coordinates': (34.08265, -118.28439),\n  'bikes': 3,\n  'docks': 3,\n  'distance': -1},\n '3775 S Vermont Ave': {'coordinates': (34.0179, -118.29172),\n  'bikes': 7,\n  'docks': 7,\n  'distance': -1},\n '2841 1/2 Hyperion Ave': {'coordinates': (34.10936, -118.27181),\n  'bikes': 3,\n  'docks': 15,\n  'distance': -1},\n 'W Olympic Blvd & S Ardmore Ave': {'coordinates': (34.05243, -118.30202),\n  'bikes': 6,\n  'docks': 10,\n  'distance': -1},\n 'Hollywood Blvd & Rodney Dr': {'coordinates': (34.10011, -118.28986),\n  'bikes': 3,\n  'docks': 5,\n  'distance': -1},\n 'Sunset Blvd & Sanborn Ave': {'coordinates': (34.0926, -118.28093),\n  'bikes': 7,\n  'docks': 10,\n  'distance': -1},\n '3040 Beverly Blvd': {'coordinates': (34.07159, -118.28229),\n  'bikes': 3,\n  'docks': 5,\n  'distance': -1},\n 'Ambrose Ave & Hillhurst Ave': {'coordinates': (34.11003, -118.28716),\n  'bikes': 2,\n  'docks': 8,\n  'distance': -1},\n '415 San Pedro St': {'coordinates': (34.04518, -118.24325),\n  'bikes': 3,\n  'docks': 8,\n  'distance': -1},\n '2847 Sunset Blvd': {'coordinates': (34.08252, -118.27272),\n  'bikes': 8,\n  'docks': 7,\n  'distance': -1},\n '6247 Yucca St': {'coordinates': (34.10385, -118.32546),\n  'bikes': 9,\n  'docks': 13,\n  'distance': -1},\n '3706 Tracy St': {'coordinates': (34.10424, -118.2737),\n  'bikes': 5,\n  'docks': 8,\n  'distance': -1},\n '2617-2717 Ellendale Pl': {'coordinates': (34.0315, -118.28874),\n  'bikes': 4,\n  'docks': 8,\n  'distance': -1},\n '201 N Figueroa': {'coordinates': (34.05896, -118.25059),\n  'bikes': 3,\n  'docks': 12,\n  'distance': -1},\n '1300-1310 Wilcox Ave': {'coordinates': (34.09437, -118.33101),\n  'bikes': 8,\n  'docks': 7,\n  'distance': -1},\n '2420 Glendale Blv': {'coordinates': (34.1007, -118.25912),\n  'bikes': 4,\n  'docks': 8,\n  'distance': -1},\n '1303 W 1st St, Los Angeles': {'coordinates': (34.06126, -118.2586),\n  'bikes': 8,\n  'docks': 8,\n  'distance': -1},\n '1017 Broxton Ave': {'coordinates': (34.06211, -118.44692),\n  'bikes': 3,\n  'docks': 13,\n  'distance': -1},\n 'S Figueroa St & W 4th St': {'coordinates': (34.05355, -118.25584),\n  'bikes': 2,\n  'docks': 13,\n  'distance': -1},\n '429 S Main St': {'coordinates': (34.04744, -118.24794),\n  'bikes': 6,\n  'docks': 7,\n  'distance': -1},\n 'Westwood Blvd & Exposition Blvd': {'coordinates': (34.03687, -118.4255),\n  'bikes': 8,\n  'docks': 11,\n  'distance': -1},\n 'Sunset Blvd & Maltman Ave': {'coordinates': (34.09028, -118.27719),\n  'bikes': 4,\n  'docks': 12,\n  'distance': -1},\n '1524 Sunset Blvd': {'coordinates': (34.07598, -118.25601),\n  'bikes': 4,\n  'docks': 5,\n  'distance': -1},\n '1661 Western Ave ': {'coordinates': (34.10164, -118.30917),\n  'bikes': 7,\n  'docks': 4,\n  'distance': -1},\n '2134 Sunset Blvd': {'coordinates': (34.07735, -118.26455),\n  'bikes': 1,\n  'docks': 8,\n  'distance': -1},\n 'N Vignes St': {'coordinates': (34.05628, -118.23177),\n  'bikes': 4,\n  'docks': 15,\n  'distance': -1},\n '1060 S Figueroa St ': {'coordinates': (34.04381, -118.26497),\n  'bikes': 1,\n  'docks': 15,\n  'distance': -1},\n '707 N Edgemont St': {'coordinates': (34.08371, -118.29602),\n  'bikes': 4,\n  'docks': 14,\n  'distance': -1},\n '2028 1/2 Sawtelle Blvd': {'coordinates': (34.04031, -118.44306),\n  'bikes': 6,\n  'docks': 3,\n  'distance': -1},\n '700 S Hill St': {'coordinates': (34.04585, -118.2544),\n  'bikes': 5,\n  'docks': 14,\n  'distance': -1},\n '1721-1701 N Highland Ave': {'coordinates': (34.10196, -118.33885),\n  'bikes': 5,\n  'docks': 6,\n  'distance': -1},\n '720 S Normandie Ave': {'coordinates': (34.05797, -118.29975),\n  'bikes': 3,\n  'docks': 3,\n  'distance': -1},\n '4955 Inglewood Blvd': {'coordinates': (33.99032, -118.41205),\n  'bikes': 4,\n  'docks': 8,\n  'distance': -1},\n '311 S Western Ave': {'coordinates': (34.06875, -118.30928),\n  'bikes': 4,\n  'docks': 11,\n  'distance': -1},\n 'Wilshire Normandie Plaza': {'coordinates': (34.06163, -118.30119),\n  'bikes': 2,\n  'docks': 12,\n  'distance': -1},\n '7000 Hawthorn Ave': {'coordinates': (34.10038, -118.3418),\n  'bikes': 6,\n  'docks': 5,\n  'distance': -1},\n '7333 Franklin Ave': {'coordinates': (34.10338, -118.34919),\n  'bikes': 2,\n  'docks': 21,\n  'distance': -1},\n '1714 N McCadden Pl': {'coordinates': (34.102, -118.33741),\n  'bikes': 2,\n  'docks': 12,\n  'distance': -1},\n '1080 Glendon Ave': {'coordinates': (34.06097, -118.44437),\n  'bikes': 8,\n  'docks': 2,\n  'distance': -1},\n '6561 Hollywood Blvd': {'coordinates': (34.10186, -118.33329),\n  'bikes': 4,\n  'docks': 9,\n  'distance': -1},\n '6331 Hollywood Blvd': {'coordinates': (34.10186, -118.32811),\n  'bikes': 4,\n  'docks': 12,\n  'distance': -1},\n '600 Venice Boulevard': {'coordinates': (33.98908, -118.46226),\n  'bikes': 7,\n  'docks': 2,\n  'distance': -1},\n '1500 N Highland Ave': {'coordinates': (34.09823, -118.33882),\n  'bikes': 5,\n  'docks': 18,\n  'distance': -1},\n '450 S Western Ave ': {'coordinates': (34.06543, -118.30882),\n  'bikes': 0,\n  'docks': 8,\n  'distance': -1},\n '1717 N Cherokee Ave': {'coordinates': (34.10176, -118.33474),\n  'bikes': 3,\n  'docks': 11,\n  'distance': -1},\n '111 S Utah St': {'coordinates': (34.04776, -118.22541),\n  'bikes': 4,\n  'docks': 14,\n  'distance': -1},\n '6900 Pacific Ave': {'coordinates': (33.95718, -118.45125),\n  'bikes': 6,\n  'docks': 2,\n  'distance': -1},\n 'Dockweiler Beach': {'coordinates': (33.92846, -118.4352),\n  'bikes': 1,\n  'docks': 13,\n  'distance': -1},\n '200 Culver Blvd': {'coordinates': (33.95879, -118.44828),\n  'bikes': 1,\n  'docks': 7,\n  'distance': -1},\n '12201 Exposition Blvd': {'coordinates': (34.0314, -118.45363),\n  'bikes': 12,\n  'docks': 7,\n  'distance': -1},\n '3205 Washington Blvd': {'coordinates': (33.9897, -118.44888),\n  'bikes': 2,\n  'docks': 8,\n  'distance': -1},\n '8985 Venice Blvd': {'coordinates': (34.02683, -118.39352),\n  'bikes': 4,\n  'docks': 8,\n  'distance': -1},\n '3010 S Barrington Ave': {'coordinates': (34.02245, -118.43833),\n  'bikes': 8,\n  'docks': 8,\n  'distance': -1},\n '12415 Culver Blvd': {'coordinates': (33.99097, -118.4213),\n  'bikes': 7,\n  'docks': 5,\n  'distance': -1},\n '12904 Venice Blvd': {'coordinates': (33.99958, -118.44136),\n  'bikes': 3,\n  'docks': 6,\n  'distance': -1},\n '12413 Venice': {'coordinates': (34.00351, -118.43438),\n  'bikes': 6,\n  'docks': 5,\n  'distance': -1},\n '12006 Venice Blvd': {'coordinates': (34.00587, -118.42916),\n  'bikes': 5,\n  'docks': 4,\n  'distance': -1},\n '3781 McLaughlin': {'coordinates': (34.00902, -118.42501),\n  'bikes': 5,\n  'docks': 8,\n  'distance': -1},\n '11289 Venice Blvd': {'coordinates': (34.0118, -118.41944),\n  'bikes': 6,\n  'docks': 4,\n  'distance': -1},\n '3775 Bagley Ave': {'coordinates': (34.02569, -118.3953),\n  'bikes': 6,\n  'docks': 11,\n  'distance': -1},\n '10875 Palms Blvd': {'coordinates': (34.02199, -118.4165),\n  'bikes': 2,\n  'docks': 7,\n  'distance': -1},\n '3585 S Sepulveda Blvd': {'coordinates': (34.01737, -118.4206),\n  'bikes': 1,\n  'docks': 7,\n  'distance': -1},\n '3466 S Sepulveda Blvd': {'coordinates': (34.02006, -118.42268),\n  'bikes': 3,\n  'docks': 5,\n  'distance': -1},\n 'Sepulveda & National': {'coordinates': (34.02697, -118.42821),\n  'bikes': 5,\n  'docks': 11,\n  'distance': -1},\n '10801 Venice Blvd': {'coordinates': (34.01768, -118.40908),\n  'bikes': 4,\n  'docks': 8,\n  'distance': -1},\n '11295 Exposition Blvd': {'coordinates': (34.03535, -118.43414),\n  'bikes': 6,\n  'docks': 7,\n  'distance': -1},\n '4314-4300 Alla Rd': {'coordinates': (33.98995, -118.43467),\n  'bikes': 2,\n  'docks': 10,\n  'distance': -1},\n '9907 Venice Blvd': {'coordinates': (34.02339, -118.39922),\n  'bikes': 7,\n  'docks': 8,\n  'distance': -1},\n '10404 Venice Blvd': {'coordinates': (34.02018, -118.40403),\n  'bikes': 5,\n  'docks': 6,\n  'distance': -1},\n '10001 Exposition Blvd': {'coordinates': (34.02912, -118.40317),\n  'bikes': 5,\n  'docks': 9,\n  'distance': -1},\n '10323 Palms Blvd': {'coordinates': (34.02655, -118.40846),\n  'bikes': 3,\n  'docks': 6,\n  'distance': -1},\n '3732 S Sepulveda Blvd': {'coordinates': (34.01376, -118.4178),\n  'bikes': 5,\n  'docks': 12,\n  'distance': -1},\n '10618 Rose Ave': {'coordinates': (34.02765, -118.41356),\n  'bikes': 4,\n  'docks': 3,\n  'distance': -1},\n '10377 National Blvd': {'coordinates': (34.02948, -118.41047),\n  'bikes': 5,\n  'docks': 10,\n  'distance': -1},\n '3301 Westwood Blvd': {'coordinates': (34.03047, -118.42098),\n  'bikes': 5,\n  'docks': 6,\n  'distance': -1},\n '11220-11200 Lucerne Ave': {'coordinates': (34.00031, -118.40253),\n  'bikes': 3,\n  'docks': 7,\n  'distance': -1},\n '3704-3700 Motor Ave': {'coordinates': (34.02258, -118.40551),\n  'bikes': 7,\n  'docks': 4,\n  'distance': -1},\n '4743 Inglewood Blvd': {'coordinates': (33.99302, -118.41491),\n  'bikes': 6,\n  'docks': 5,\n  'distance': -1},\n '755 S Main': {'coordinates': (34.04298, -118.25295),\n  'bikes': 2,\n  'docks': 6,\n  'distance': -1},\n '4666-4650 Alla Rd': {'coordinates': (33.98486, -118.43113),\n  'bikes': 7,\n  'docks': 5,\n  'distance': -1},\n 'Centinela & Lucile': {'coordinates': (33.98292, -118.41093),\n  'bikes': 4,\n  'docks': 4,\n  'distance': -1},\n 'Playa Vista Drive': {'coordinates': (33.97024, -118.42607),\n  'bikes': 3,\n  'docks': 14,\n  'distance': -1},\n '5504 Westlawn Ave': {'coordinates': (33.98099, -118.41488),\n  'bikes': 4,\n  'docks': 10,\n  'distance': -1},\n '12855 Runway': {'coordinates': (33.97619, -118.41842),\n  'bikes': 4,\n  'docks': 18,\n  'distance': -1},\n '6265 Fountain Ave': {'coordinates': (34.09435, -118.32636),\n  'bikes': 9,\n  'docks': 5,\n  'distance': -1},\n '650 S Western Ave': {'coordinates': (34.06079, -118.30907),\n  'bikes': 3,\n  'docks': 10,\n  'distance': -1},\n '11688 Chandler Blvd': {'coordinates': (34.16835, -118.3875),\n  'bikes': 7,\n  'docks': 11,\n  'distance': -1},\n '5352 Laurel Canyon Blvd': {'coordinates': (34.16833, -118.39616),\n  'bikes': 8,\n  'docks': 7,\n  'distance': -1},\n '10301 W Magnolia Blvd': {'coordinates': (34.16522, -118.35515),\n  'bikes': 4,\n  'docks': 7,\n  'distance': -1},\n '5223 Lankershim Blvd': {'coordinates': (34.16552, -118.37515),\n  'bikes': 8,\n  'docks': 1,\n  'distance': -1},\n '10605 Chandler Blvd': {'coordinates': (34.16875, -118.36187),\n  'bikes': 2,\n  'docks': 10,\n  'distance': -1},\n '5906 Lankershim Blvd': {'coordinates': (34.17765, -118.38231),\n  'bikes': 4,\n  'docks': 6,\n  'distance': -1},\n '5032 Lankershim Blvd': {'coordinates': (34.16171, -118.37282),\n  'bikes': 6,\n  'docks': 5,\n  'distance': -1},\n '10650 W Magnolia Blvd': {'coordinates': (34.16495, -118.36363),\n  'bikes': 3,\n  'docks': 9,\n  'distance': -1},\n '10600 Riverside Dr': {'coordinates': (34.15214, -118.36195),\n  'bikes': 6,\n  'docks': 12,\n  'distance': -1},\n '4825 Lanklershim Blvd': {'coordinates': (34.15832, -118.37081),\n  'bikes': 6,\n  'docks': 6,\n  'distance': -1},\n '4499 Mariota Ave': {'coordinates': (34.152, -118.3506),\n  'bikes': 5,\n  'docks': 8,\n  'distance': -1},\n '5377 Lankershim': {'coordinates': (34.16863, -118.37707),\n  'bikes': 3,\n  'docks': 17,\n  'distance': -1},\n '425 Westwood Plaza, Los Angeles, CA 90095': {'coordinates': (34.06975,\n   -118.44535),\n  'bikes': 5,\n  'docks': 6,\n  'distance': -1},\n '1317 Portola Plaza': {'coordinates': (34.07365, -118.43984),\n  'bikes': 5,\n  'docks': 13,\n  'distance': -1}}"
     },
     "execution_count": 290,
     "metadata": {},
     "output_type": "execute_result"
    }
   ],
   "source": [
    "file = open('map_data.json')\n",
    "read = gpd.read_file(file)\n",
    "read = read.reset_index()\n",
    "#dictionary with neccesary informations  - street, location, num of available bikes, num of available bikes, distance from user (-1 for not count)\n",
    "station_info = {}\n",
    "for index, row in read.iterrows():\n",
    "    coordinates = (row['latitude'], row['longitude'])\n",
    "    station_info[row['addressStreet']] = {'coordinates': coordinates, 'bikes': row['bikesAvailable'], 'docks': row['docksAvailable'], 'distance':-1}\n",
    "station_info"
   ],
   "metadata": {
    "collapsed": false,
    "pycharm": {
     "name": "#%%\n"
    }
   }
  },
  {
   "cell_type": "markdown",
   "source": [
    "# Reseet distance info"
   ],
   "metadata": {
    "collapsed": false,
    "pycharm": {
     "name": "#%% md\n"
    }
   }
  },
  {
   "cell_type": "code",
   "execution_count": 291,
   "outputs": [],
   "source": [
    "# reset the distance info - the same structure might be used multiple times\n",
    "def reset_station_distance(station_info):\n",
    "    for item in station_info.items():\n",
    "        item[1]['distance']=-1"
   ],
   "metadata": {
    "collapsed": false,
    "pycharm": {
     "name": "#%%\n"
    }
   }
  },
  {
   "cell_type": "markdown",
   "source": [
    "# Find nearest station with available bikes"
   ],
   "metadata": {
    "collapsed": false,
    "pycharm": {
     "name": "#%% md\n"
    }
   }
  },
  {
   "cell_type": "code",
   "execution_count": 291,
   "outputs": [],
   "source": [],
   "metadata": {
    "collapsed": false,
    "pycharm": {
     "name": "#%%\n"
    }
   }
  },
  {
   "cell_type": "code",
   "execution_count": 292,
   "outputs": [
    {
     "data": {
      "text/plain": "[('700 Flower St',\n  {'coordinates': (34.0485, -118.25854),\n   'bikes': 14,\n   'docks': 17,\n   'distance': 0.0}),\n ('735 S Figueroa Street',\n  {'coordinates': (34.0484, -118.26095),\n   'bikes': 14,\n   'docks': 9,\n   'distance': 0.2227971446605152}),\n ('786 S Grand Ave',\n  {'coordinates': (34.04613, -118.25759),\n   'bikes': 4,\n   'docks': 14,\n   'distance': 0.2771360494335669}),\n ('557 S Hope Street',\n  {'coordinates': (34.04989, -118.25588),\n   'bikes': 4,\n   'docks': 27,\n   'distance': 0.28998747967863}),\n ('729 S Olive Street',\n  {'coordinates': (34.04554, -118.25667),\n   'bikes': 5,\n   'docks': 26,\n   'distance': 0.3709654625317443}),\n ('557 S 5th Street',\n  {'coordinates': (34.05048, -118.25459),\n   'bikes': 6,\n   'docks': 17,\n   'distance': 0.42573293044972493}),\n ('865 S Figueroa Street',\n  {'coordinates': (34.04661, -118.26273),\n   'bikes': 4,\n   'docks': 10,\n   'distance': 0.4400276759578756}),\n ('532 W Olive Street',\n  {'coordinates': (34.04804, -118.25374),\n   'bikes': 9,\n   'docks': 13,\n   'distance': 0.44612352883657697}),\n ('700 S Hill St',\n  {'coordinates': (34.04585, -118.2544),\n   'bikes': 5,\n   'docks': 14,\n   'distance': 0.4822119980498981}),\n ('960 S Hope Street',\n  {'coordinates': (34.04417, -118.26117),\n   'bikes': 10,\n   'docks': 12,\n   'distance': 0.5381979194346506})]"
     },
     "execution_count": 292,
     "metadata": {},
     "output_type": "execute_result"
    }
   ],
   "source": [
    "def find_nearest_stations_with_bikes(lat_user, lon_user, k_stations, station_info):\n",
    "    points=[]\n",
    "    map = folium.Map(location=[34.04850,-118.25854 ], zoom_start=15)\n",
    "    icon = folium.Icon(color=\"red\")\n",
    "    stations = []\n",
    "    folium.Marker(location=[34.04862,-118.25874 ], icon=icon).add_to(map)\n",
    "    reset_station_distance(station_info) # be sure that structure is empty and ready to use\n",
    "    user_position =(lat_user,lon_user)\n",
    "    for item in station_info.items():\n",
    "        if item[1]['bikes'] >0: # count distance for stations with available bikes\n",
    "            item[1]['distance']=gd(user_position,item[1]['coordinates']).kilometers\n",
    "    station_info = sorted(station_info.items(), key=lambda item: item[1]['distance'], reverse=False)\n",
    "    # print the nearest stations -  skip the stations without distance\n",
    "    station_counter=0\n",
    "    for item in station_info:\n",
    "        if item[1]['distance'] != -1:\n",
    "            points.append(item[1]['coordinates'])\n",
    "            stations.append(item)\n",
    "            #print(item)\n",
    "            station_counter+=1\n",
    "        if station_counter==k_stations: # check how many stations was already printed\n",
    "            break\n",
    "\n",
    "    for point in range(0, len(points)):\n",
    "        folium.Marker(points[point]).add_to(map)\n",
    "\n",
    "     #folium.Marker([item[1]['coordinates'][0], item[1]['coordinates'][1]], icon=icon).add_to(map)\n",
    "    map.save('index.html')\n",
    "\n",
    "    return stations\n",
    "\n",
    "find_nearest_stations_with_bikes(34.04850,-118.25854,10, station_info)\n",
    "\n"
   ],
   "metadata": {
    "collapsed": false,
    "pycharm": {
     "name": "#%%\n"
    }
   }
  },
  {
   "cell_type": "markdown",
   "source": [
    "# finde nearest station with available docks"
   ],
   "metadata": {
    "collapsed": false,
    "pycharm": {
     "name": "#%% md\n"
    }
   }
  },
  {
   "cell_type": "code",
   "execution_count": 293,
   "outputs": [
    {
     "name": "stdout",
     "output_type": "stream",
     "text": [
      "('700 Flower St', {'coordinates': (34.0485, -118.25854), 'bikes': 14, 'docks': 17, 'distance': 0.0})\n",
      "('735 S Figueroa Street', {'coordinates': (34.0484, -118.26095), 'bikes': 14, 'docks': 9, 'distance': 0.2227971446605152})\n"
     ]
    }
   ],
   "source": [
    "def find_nearest_stations_with_docks(lat_user, lon_user, k_stations, station_info):\n",
    "    reset_station_distance(station_info)\n",
    "    my_position =(lat_user,lon_user)\n",
    "    for item in station_info.items():\n",
    "        #print(item[1]['coordinates'])\n",
    "        if item[1]['docks'] >0:\n",
    "            item[1]['distance']=gd(my_position,item[1]['coordinates']).kilometers\n",
    "    station_info = sorted(station_info.items(), key=lambda item: item[1]['distance'], reverse=False)\n",
    "    station_counter=0\n",
    "    for item in station_info:\n",
    "        if item[1]['distance'] != -1:\n",
    "            print(item)\n",
    "            station_counter+=1\n",
    "        if station_counter==k_stations:\n",
    "            break\n",
    "\n",
    "find_nearest_stations_with_docks(34.04850,-118.25854,2, station_info)"
   ],
   "metadata": {
    "collapsed": false,
    "pycharm": {
     "name": "#%%\n"
    }
   }
  },
  {
   "cell_type": "code",
   "execution_count": 294,
   "outputs": [
    {
     "name": "stdout",
     "output_type": "stream",
     "text": [
      "duration walking\n",
      "2203.1\n"
     ]
    },
    {
     "data": {
      "text/plain": "<folium.folium.Map at 0x7f83c82778b0>",
      "text/html": "<div style=\"width:100%;\"><div style=\"position:relative;width:100%;height:0;padding-bottom:60%;\"><span style=\"color:#565656\">Make this Notebook Trusted to load map: File -> Trust Notebook</span><iframe srcdoc=\"&lt;!DOCTYPE html&gt;\n&lt;head&gt;    \n    &lt;meta http-equiv=&quot;content-type&quot; content=&quot;text/html; charset=UTF-8&quot; /&gt;\n    \n        &lt;script&gt;\n            L_NO_TOUCH = false;\n            L_DISABLE_3D = false;\n        &lt;/script&gt;\n    \n    &lt;style&gt;html, body {width: 100%;height: 100%;margin: 0;padding: 0;}&lt;/style&gt;\n    &lt;style&gt;#map {position:absolute;top:0;bottom:0;right:0;left:0;}&lt;/style&gt;\n    &lt;script src=&quot;https://cdn.jsdelivr.net/npm/leaflet@1.6.0/dist/leaflet.js&quot;&gt;&lt;/script&gt;\n    &lt;script src=&quot;https://code.jquery.com/jquery-1.12.4.min.js&quot;&gt;&lt;/script&gt;\n    &lt;script src=&quot;https://maxcdn.bootstrapcdn.com/bootstrap/3.2.0/js/bootstrap.min.js&quot;&gt;&lt;/script&gt;\n    &lt;script src=&quot;https://cdnjs.cloudflare.com/ajax/libs/Leaflet.awesome-markers/2.0.2/leaflet.awesome-markers.js&quot;&gt;&lt;/script&gt;\n    &lt;link rel=&quot;stylesheet&quot; href=&quot;https://cdn.jsdelivr.net/npm/leaflet@1.6.0/dist/leaflet.css&quot;/&gt;\n    &lt;link rel=&quot;stylesheet&quot; href=&quot;https://maxcdn.bootstrapcdn.com/bootstrap/3.2.0/css/bootstrap.min.css&quot;/&gt;\n    &lt;link rel=&quot;stylesheet&quot; href=&quot;https://maxcdn.bootstrapcdn.com/bootstrap/3.2.0/css/bootstrap-theme.min.css&quot;/&gt;\n    &lt;link rel=&quot;stylesheet&quot; href=&quot;https://maxcdn.bootstrapcdn.com/font-awesome/4.6.3/css/font-awesome.min.css&quot;/&gt;\n    &lt;link rel=&quot;stylesheet&quot; href=&quot;https://cdnjs.cloudflare.com/ajax/libs/Leaflet.awesome-markers/2.0.2/leaflet.awesome-markers.css&quot;/&gt;\n    &lt;link rel=&quot;stylesheet&quot; href=&quot;https://cdn.jsdelivr.net/gh/python-visualization/folium/folium/templates/leaflet.awesome.rotate.min.css&quot;/&gt;\n    \n            &lt;meta name=&quot;viewport&quot; content=&quot;width=device-width,\n                initial-scale=1.0, maximum-scale=1.0, user-scalable=no&quot; /&gt;\n            &lt;style&gt;\n                #map_bb4e55b428e0e2beaa6d8fc7704ef198 {\n                    position: relative;\n                    width: 100.0%;\n                    height: 100.0%;\n                    left: 0.0%;\n                    top: 0.0%;\n                }\n            &lt;/style&gt;\n        \n&lt;/head&gt;\n&lt;body&gt;    \n    \n            &lt;div class=&quot;folium-map&quot; id=&quot;map_bb4e55b428e0e2beaa6d8fc7704ef198&quot; &gt;&lt;/div&gt;\n        \n&lt;/body&gt;\n&lt;script&gt;    \n    \n            var map_bb4e55b428e0e2beaa6d8fc7704ef198 = L.map(\n                &quot;map_bb4e55b428e0e2beaa6d8fc7704ef198&quot;,\n                {\n                    center: [34.0485, -118.25878],\n                    crs: L.CRS.EPSG3857,\n                    zoom: 13,\n                    zoomControl: true,\n                    preferCanvas: false,\n                }\n            );\n\n            \n\n        \n    \n            var tile_layer_3187ae0e4dca2dad99c9730f477e9949 = L.tileLayer(\n                &quot;https://{s}.tile.openstreetmap.org/{z}/{x}/{y}.png&quot;,\n                {&quot;attribution&quot;: &quot;Data by \\u0026copy; \\u003ca href=\\&quot;http://openstreetmap.org\\&quot;\\u003eOpenStreetMap\\u003c/a\\u003e, under \\u003ca href=\\&quot;http://www.openstreetmap.org/copyright\\&quot;\\u003eODbL\\u003c/a\\u003e.&quot;, &quot;detectRetina&quot;: false, &quot;maxNativeZoom&quot;: 18, &quot;maxZoom&quot;: 18, &quot;minZoom&quot;: 0, &quot;noWrap&quot;: false, &quot;opacity&quot;: 1, &quot;subdomains&quot;: &quot;abc&quot;, &quot;tms&quot;: false}\n            ).addTo(map_bb4e55b428e0e2beaa6d8fc7704ef198);\n        \n    \n\n        function geo_json_8899b8ccddc0f20a1a5f8eaebee8a84f_onEachFeature(feature, layer) {\n            layer.on({\n            });\n        };\n        var geo_json_8899b8ccddc0f20a1a5f8eaebee8a84f = L.geoJson(null, {\n                onEachFeature: geo_json_8899b8ccddc0f20a1a5f8eaebee8a84f_onEachFeature,\n            \n        });\n\n        function geo_json_8899b8ccddc0f20a1a5f8eaebee8a84f_add (data) {\n            geo_json_8899b8ccddc0f20a1a5f8eaebee8a84f\n                .addData(data)\n                .addTo(map_bb4e55b428e0e2beaa6d8fc7704ef198);\n        }\n            geo_json_8899b8ccddc0f20a1a5f8eaebee8a84f_add({&quot;bbox&quot;: [-118.258955, 34.04851, -118.258528, 34.048615], &quot;features&quot;: [{&quot;bbox&quot;: [-118.258955, 34.04851, -118.258528, 34.048615], &quot;geometry&quot;: {&quot;coordinates&quot;: [[-118.258955, 34.04851], [-118.25887, 34.048603], [-118.25876, 34.048527], [-118.258687, 34.048615], [-118.258528, 34.048513]], &quot;type&quot;: &quot;LineString&quot;}, &quot;properties&quot;: {&quot;segments&quot;: [{&quot;distance&quot;: 0.057, &quot;duration&quot;: 40.7, &quot;steps&quot;: [{&quot;distance&quot;: 0.013, &quot;duration&quot;: 9.3, &quot;instruction&quot;: &quot;Head northeast on South Flower Street&quot;, &quot;name&quot;: &quot;South Flower Street&quot;, &quot;type&quot;: 11, &quot;way_points&quot;: [0, 1]}, {&quot;distance&quot;: 0.013, &quot;duration&quot;: 9.5, &quot;instruction&quot;: &quot;Turn right&quot;, &quot;name&quot;: &quot;-&quot;, &quot;type&quot;: 1, &quot;way_points&quot;: [1, 2]}, {&quot;distance&quot;: 0.012, &quot;duration&quot;: 8.6, &quot;instruction&quot;: &quot;Turn left&quot;, &quot;name&quot;: &quot;-&quot;, &quot;type&quot;: 0, &quot;way_points&quot;: [2, 3]}, {&quot;distance&quot;: 0.019, &quot;duration&quot;: 13.4, &quot;instruction&quot;: &quot;Turn right onto West 7th Street&quot;, &quot;name&quot;: &quot;West 7th Street&quot;, &quot;type&quot;: 1, &quot;way_points&quot;: [3, 4]}, {&quot;distance&quot;: 0.0, &quot;duration&quot;: 0.0, &quot;instruction&quot;: &quot;Arrive at West 7th Street, on the right&quot;, &quot;name&quot;: &quot;-&quot;, &quot;type&quot;: 10, &quot;way_points&quot;: [4, 4]}]}], &quot;summary&quot;: {&quot;distance&quot;: 0.057, &quot;duration&quot;: 40.7}, &quot;way_points&quot;: [0, 4]}, &quot;type&quot;: &quot;Feature&quot;}], &quot;metadata&quot;: {&quot;attribution&quot;: &quot;openrouteservice.org | OpenStreetMap contributors&quot;, &quot;engine&quot;: {&quot;build_date&quot;: &quot;2022-02-18T19:37:41Z&quot;, &quot;graph_date&quot;: &quot;2022-05-03T06:30:15Z&quot;, &quot;version&quot;: &quot;6.7.0&quot;}, &quot;query&quot;: {&quot;coordinates&quot;: [[-118.25894, 34.0485], [-118.25854, 34.0485]], &quot;format&quot;: &quot;geojson&quot;, &quot;profile&quot;: &quot;foot-walking&quot;, &quot;units&quot;: &quot;km&quot;}, &quot;service&quot;: &quot;routing&quot;, &quot;timestamp&quot;: 1653854943191}, &quot;type&quot;: &quot;FeatureCollection&quot;});\n\n        \n    \n            var marker_4bcde229a5e49d2f122dfa6ecdbf296f = L.marker(\n                [34.0485, -118.25854],\n                {}\n            ).addTo(map_bb4e55b428e0e2beaa6d8fc7704ef198);\n        \n    \n\n        function geo_json_b2183b0a6ed42b0561dbf8ee44f52f39_onEachFeature(feature, layer) {\n            layer.on({\n            });\n        };\n        var geo_json_b2183b0a6ed42b0561dbf8ee44f52f39 = L.geoJson(null, {\n                onEachFeature: geo_json_b2183b0a6ed42b0561dbf8ee44f52f39_onEachFeature,\n            \n        });\n\n        function geo_json_b2183b0a6ed42b0561dbf8ee44f52f39_add (data) {\n            geo_json_b2183b0a6ed42b0561dbf8ee44f52f39\n                .addData(data)\n                .addTo(map_bb4e55b428e0e2beaa6d8fc7704ef198);\n        }\n            geo_json_b2183b0a6ed42b0561dbf8ee44f52f39_add({&quot;bbox&quot;: [-118.264394, 34.028477, -118.255413, 34.048615], &quot;features&quot;: [{&quot;bbox&quot;: [-118.264394, 34.028477, -118.255413, 34.048615], &quot;geometry&quot;: {&quot;coordinates&quot;: [[-118.258528, 34.048513], [-118.258687, 34.048615], [-118.25876, 34.048527], [-118.258789, 34.048516], [-118.25988, 34.04734], [-118.259951, 34.047279], [-118.260022, 34.047191], [-118.260083, 34.047126], [-118.259658, 34.046833], [-118.259201, 34.046557], [-118.259978, 34.045736], [-118.26041, 34.045255], [-118.260486, 34.045181], [-118.260375, 34.04511], [-118.260469, 34.045011], [-118.261623, 34.043803], [-118.261704, 34.043719], [-118.261764, 34.043654], [-118.26235, 34.043024], [-118.262728, 34.042619], [-118.263008, 34.042317], [-118.263069, 34.042252], [-118.263143, 34.042173], [-118.263726, 34.041546], [-118.26418, 34.04107], [-118.264286, 34.040959], [-118.26434, 34.040902], [-118.264394, 34.040846], [-118.264288, 34.040777], [-118.26386, 34.0405], [-118.26341, 34.040208], [-118.263294, 34.040133], [-118.263206, 34.040076], [-118.262748, 34.039779], [-118.262423, 34.039569], [-118.262217, 34.039436], [-118.261683, 34.039089], [-118.261139, 34.038737], [-118.260271, 34.038175], [-118.260007, 34.038003], [-118.259963, 34.037975], [-118.25983, 34.037889], [-118.259363, 34.037586], [-118.25884, 34.037245], [-118.258351, 34.036926], [-118.257845, 34.036607], [-118.25733, 34.036281], [-118.25769, 34.035848], [-118.258274, 34.035137], [-118.259105, 34.034135], [-118.259192, 34.034025], [-118.259934, 34.033096], [-118.259414, 34.032802], [-118.25888, 34.032499], [-118.258056, 34.032068], [-118.257354, 34.031722], [-118.257305, 34.031698], [-118.25663, 34.031351], [-118.255708, 34.030878], [-118.255413, 34.030726], [-118.255511, 34.030584], [-118.255777, 34.030167], [-118.255959, 34.029881], [-118.256277, 34.029361], [-118.256465, 34.029082], [-118.256829, 34.02854], [-118.256692, 34.028477]], &quot;type&quot;: &quot;LineString&quot;}, &quot;properties&quot;: {&quot;segments&quot;: [{&quot;distance&quot;: 3.176, &quot;duration&quot;: 644.3, &quot;steps&quot;: [{&quot;distance&quot;: 0.019, &quot;duration&quot;: 3.7, &quot;instruction&quot;: &quot;Head northwest on West 7th Street&quot;, &quot;name&quot;: &quot;West 7th Street&quot;, &quot;type&quot;: 11, &quot;way_points&quot;: [0, 1]}, {&quot;distance&quot;: 0.012, &quot;duration&quot;: 7.1, &quot;instruction&quot;: &quot;Turn left&quot;, &quot;name&quot;: &quot;-&quot;, &quot;type&quot;: 0, &quot;way_points&quot;: [1, 2]}, {&quot;distance&quot;: 0.198, &quot;duration&quot;: 39.6, &quot;instruction&quot;: &quot;Turn slight right&quot;, &quot;name&quot;: &quot;-&quot;, &quot;type&quot;: 5, &quot;way_points&quot;: [2, 7]}, {&quot;distance&quot;: 0.103, &quot;duration&quot;: 20.6, &quot;instruction&quot;: &quot;Turn left&quot;, &quot;name&quot;: &quot;-&quot;, &quot;type&quot;: 0, &quot;way_points&quot;: [7, 9]}, {&quot;distance&quot;: 0.193, &quot;duration&quot;: 43.0, &quot;instruction&quot;: &quot;Turn right&quot;, &quot;name&quot;: &quot;-&quot;, &quot;type&quot;: 1, &quot;way_points&quot;: [9, 12]}, {&quot;distance&quot;: 0.013, &quot;duration&quot;: 2.6, &quot;instruction&quot;: &quot;Turn left onto West 9th Street&quot;, &quot;name&quot;: &quot;West 9th Street&quot;, &quot;type&quot;: 0, &quot;way_points&quot;: [12, 13]}, {&quot;distance&quot;: 0.602, &quot;duration&quot;: 120.3, &quot;instruction&quot;: &quot;Turn right onto South Hope Street&quot;, &quot;name&quot;: &quot;South Hope Street&quot;, &quot;type&quot;: 1, &quot;way_points&quot;: [13, 27]}, {&quot;distance&quot;: 0.825, &quot;duration&quot;: 165.1, &quot;instruction&quot;: &quot;Turn left onto West 12th Street&quot;, &quot;name&quot;: &quot;West 12th Street&quot;, &quot;type&quot;: 0, &quot;way_points&quot;: [27, 46]}, {&quot;distance&quot;: 0.428, &quot;duration&quot;: 85.6, &quot;instruction&quot;: &quot;Turn right onto Santee Street&quot;, &quot;name&quot;: &quot;Santee Street&quot;, &quot;type&quot;: 1, &quot;way_points&quot;: [46, 51]}, {&quot;distance&quot;: 0.493, &quot;duration&quot;: 98.6, &quot;instruction&quot;: &quot;Turn left onto East 15th Street&quot;, &quot;name&quot;: &quot;East 15th Street&quot;, &quot;type&quot;: 0, &quot;way_points&quot;: [51, 59]}, {&quot;distance&quot;: 0.276, &quot;duration&quot;: 55.2, &quot;instruction&quot;: &quot;Turn right onto San Pedro Street&quot;, &quot;name&quot;: &quot;San Pedro Street&quot;, &quot;type&quot;: 1, &quot;way_points&quot;: [59, 65]}, {&quot;distance&quot;: 0.014, &quot;duration&quot;: 2.9, &quot;instruction&quot;: &quot;Turn left onto East 18th Street&quot;, &quot;name&quot;: &quot;East 18th Street&quot;, &quot;type&quot;: 0, &quot;way_points&quot;: [65, 66]}, {&quot;distance&quot;: 0.0, &quot;duration&quot;: 0.0, &quot;instruction&quot;: &quot;Arrive at East 18th Street, on the left&quot;, &quot;name&quot;: &quot;-&quot;, &quot;type&quot;: 10, &quot;way_points&quot;: [66, 66]}]}], &quot;summary&quot;: {&quot;distance&quot;: 3.176, &quot;duration&quot;: 644.3}, &quot;way_points&quot;: [0, 66]}, &quot;type&quot;: &quot;Feature&quot;}], &quot;metadata&quot;: {&quot;attribution&quot;: &quot;openrouteservice.org | OpenStreetMap contributors&quot;, &quot;engine&quot;: {&quot;build_date&quot;: &quot;2022-02-18T19:37:41Z&quot;, &quot;graph_date&quot;: &quot;2022-05-01T08:47:24Z&quot;, &quot;version&quot;: &quot;6.7.0&quot;}, &quot;query&quot;: {&quot;coordinates&quot;: [[-118.25854, 34.0485], [-118.25667, 34.02851]], &quot;format&quot;: &quot;geojson&quot;, &quot;profile&quot;: &quot;cycling-regular&quot;, &quot;units&quot;: &quot;km&quot;}, &quot;service&quot;: &quot;routing&quot;, &quot;timestamp&quot;: 1653854943241}, &quot;type&quot;: &quot;FeatureCollection&quot;});\n\n        \n&lt;/script&gt;\" style=\"position:absolute;width:100%;height:100%;left:0;top:0;border:none !important;\" allowfullscreen webkitallowfullscreen mozallowfullscreen></iframe></div></div>"
     },
     "execution_count": 294,
     "metadata": {},
     "output_type": "execute_result"
    }
   ],
   "source": [
    "ors_key = API_KEYS.OPEN_ROUTE\n",
    "client = ors.Client(key=ors_key)\n",
    "# coordinates, long,lat\n",
    "user_position= (-118.25894, 34.04850)\n",
    "end_position = (-118.25667,34.02851)\n",
    "coordinates=(user_position, end_position)\n",
    "available_stations = []\n",
    "#route\n",
    "route_walking = client.directions(coordinates=coordinates, profile ='foot-walking', format = 'geojson', units = 'km')\n",
    "# map\n",
    "#map_direction = folium.Map(location=[34.04850,-118.25878 ], zoom_start=13)\n",
    "# add route to the map\n",
    "#folium.GeoJson(route_walking, name='route').add_to(map_direction)\n",
    "# add layer control\n",
    "#folium.LayerControl().add_to(map_direction)\n",
    "#display map\n",
    "#map_direction\n",
    "distance_walking = route_walking['features'][0]['properties']['summary']['duration']\n",
    "print(\"duration walking\")\n",
    "print (distance_walking)\n",
    "available_stations.append({'station':'walk', 'duration':distance_walking, 'route':route_walking})\n",
    "\n",
    "\n",
    "closest_stations = find_nearest_stations_with_bikes(34.04850,-118.25854,5, station_info)\n",
    "for item in closest_stations:\n",
    "    station_coordinates = item[1]['coordinates']\n",
    "    user_to_station = (user_position, (item[1]['coordinates'][1],item[1]['coordinates'][0]) )\n",
    "    route_to_bike = client.directions(coordinates=user_to_station, profile ='foot-walking', format = 'geojson', units = 'km')\n",
    "    to_end_coordinates = ((item[1]['coordinates'][1],item[1]['coordinates'][0]), end_position)\n",
    "    route_to_end = client.directions(coordinates=to_end_coordinates, profile ='cycling-regular', format = 'geojson', units = 'km')\n",
    "    total_duration = route_to_bike['features'][0]['properties']['summary']['duration'] +      route_to_end['features'][0]['properties']['summary']['duration']\n",
    "    available_stations.append({'station':item, 'duration':total_duration, 'route_to_statio':route_to_bike, 'route_to_end': route_to_end})\n",
    "    #print(\"station duration\")\n",
    "    #print(total_duration)\n",
    "    time.sleep(2)\n",
    "\n",
    "available_stations = sorted(available_stations,key=lambda item: item['duration'], reverse=False)\n",
    "map_direction = folium.Map(location=[34.04850,-118.25878 ], zoom_start=13)\n",
    "if available_stations[0]['station'] != 'walk':\n",
    "    folium.GeoJson(available_stations[0]['route_to_statio'], name='route').add_to(map_direction)\n",
    "    folium.Marker(available_stations[0]['station'][1]['coordinates']).add_to(map_direction)\n",
    "    folium.GeoJson(available_stations[0]['route_to_end'], name='route2').add_to(map_direction)\n",
    "else:\n",
    "     folium.GeoJson(available_stations[0]['route'], name='route').add_to(map_direction)\n",
    "\n",
    "map_direction\n",
    "\n"
   ],
   "metadata": {
    "collapsed": false,
    "pycharm": {
     "name": "#%%\n"
    }
   }
  },
  {
   "cell_type": "markdown",
   "source": [
    "# Display route on the map"
   ],
   "metadata": {
    "collapsed": false,
    "pycharm": {
     "name": "#%% md\n"
    }
   }
  },
  {
   "cell_type": "markdown",
   "source": [
    "# Otazky\n",
    "Jaka ma byt finalni podoba - jenom skripty, nebo UI aplikace...\n",
    "jaky je parametr pro posledi ukol, podle ceeho mam trasu vybrat, jak se ma fnce zavolat\n",
    "kde mam vzit polohu uzivatele, kde mam vzit koncovy bod\n",
    "nejake dalsi pozadavky na algoritmus\n",
    "https://www.youtube.com/watch?v=mgC-NMpegYg"
   ],
   "metadata": {
    "collapsed": false,
    "pycharm": {
     "name": "#%% md\n"
    }
   }
  }
 ],
 "metadata": {
  "kernelspec": {
   "display_name": "Python 3",
   "language": "python",
   "name": "python3"
  },
  "language_info": {
   "codemirror_mode": {
    "name": "ipython",
    "version": 2
   },
   "file_extension": ".py",
   "mimetype": "text/x-python",
   "name": "python",
   "nbconvert_exporter": "python",
   "pygments_lexer": "ipython2",
   "version": "2.7.6"
  }
 },
 "nbformat": 4,
 "nbformat_minor": 0
}